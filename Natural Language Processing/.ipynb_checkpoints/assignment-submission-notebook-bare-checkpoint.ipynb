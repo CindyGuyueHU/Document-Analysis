{
 "cells": [
  {
   "cell_type": "markdown",
   "metadata": {},
   "source": [
    "**Student first name:** Guyue   \n",
    "**Student last name:** HU   \n",
    "**Student ANU UNI ID:** u5608260"
   ]
  },
  {
   "cell_type": "markdown",
   "metadata": {},
   "source": [
    "COMP4650 Social Media Assignment Submission (10 points)\n",
    "==="
   ]
  },
  {
   "cell_type": "markdown",
   "metadata": {},
   "source": [
    "1. Assignment questions related to tutorial 1: Constructing and analyzing a social network\n",
    "---"
   ]
  },
  {
   "cell_type": "markdown",
   "metadata": {},
   "source": [
    "This initial code is necessary for loading into this notebook's Python kernel the object necessary for this part of the assignment. Run the next cell before starting to work on the assignment questions below."
   ]
  },
  {
   "cell_type": "code",
   "execution_count": 8,
   "metadata": {
    "collapsed": false
   },
   "outputs": [],
   "source": [
    "# necessary imports\n",
    "import csv\n",
    "import urllib2\n",
    "import networkx as nx\n",
    "\n",
    "# opening a local CSV file\n",
    "to_read = file(\"./dataset.csv\")  #use this line for a locally downloaded file\n",
    "# or reading it directly from the specified URL\n",
    "# url = 'http://rizoiu.eu/sna-lab-ipython/dataset.csv'\n",
    "# to_read = urllib2.urlopen(url)\n",
    "reader = csv.reader(to_read)\n",
    "\n",
    "#  construct the networkx graph\n",
    "G = nx.Graph()\n",
    "for line in reader:\n",
    "    if line[0] not in G:  G.add_node(line[0])\n",
    "    if line[1] not in G:  G.add_node(line[1])\n",
    "    G.add_edge(line[0], line[1])"
   ]
  },
  {
   "cell_type": "markdown",
   "metadata": {},
   "source": [
    "**(1 point) Assignment question #1.1:** Find another way of determining the number of users, by applying a (networkx) graph method."
   ]
  },
  {
   "cell_type": "code",
   "execution_count": 9,
   "metadata": {
    "collapsed": false
   },
   "outputs": [
    {
     "name": "stdout",
     "output_type": "stream",
     "text": [
      "The social graph contains 217 users.\n"
     ]
    }
   ],
   "source": [
    "print \"The social graph contains %s users.\" % G.number_of_nodes()\n",
    "\n"
   ]
  },
  {
   "cell_type": "markdown",
   "metadata": {},
   "source": [
    "**(0.5 points) Assignment question #1.2:** What is the minimum number of introductions required for the user `'137056623'` to reach any other user? "
   ]
  },
  {
   "cell_type": "code",
   "execution_count": 10,
   "metadata": {
    "collapsed": false
   },
   "outputs": [
    {
     "name": "stdout",
     "output_type": "stream",
     "text": [
      "Using 10 introductions, '2568857825' can reach anyone in the network\n"
     ]
    }
   ],
   "source": [
    "no_hops = max([len(nx.shortest_path(G, source = '137056623', target = x)) - 1 for x in G.nodes()])\n",
    "print \"Using %d introductions, '2568857825' can reach anyone in the network\" % no_hops\n"
   ]
  },
  {
   "cell_type": "markdown",
   "metadata": {},
   "source": [
    "**(0.5 points) Assignment question #1.3:** What is the minimum number of introductions required for the any user to reach any other user in the  network?  \n",
    "\n",
    "**HINT:** study the `shortest_path_length` method description."
   ]
  },
  {
   "cell_type": "code",
   "execution_count": 11,
   "metadata": {
    "collapsed": false
   },
   "outputs": [
    {
     "name": "stdout",
     "output_type": "stream",
     "text": [
      "Using 18 introductions, anyone can reach anyone in the network\n"
     ]
    }
   ],
   "source": [
    "no_hops = max (max([len(nx.shortest_path(G, source = y, target = x)) - 1 for x in G.nodes()]) for y in G.nodes())\n",
    "print \"Using %d introductions, anyone can reach anyone in the network\" % no_hops\n"
   ]
  },
  {
   "cell_type": "markdown",
   "metadata": {},
   "source": [
    "**(0.5 points) Assignment question #1.4:** The _diameter_ $d$ of a graph is the maximum eccentricity of any node, $d = \\max_{v} \\epsilon(v)$. Give two ways to compute the diameter of the social network G (one using the calculated eccentricity values calculated earlier and another one using the dedicated `networkx` function)."
   ]
  },
  {
   "cell_type": "code",
   "execution_count": 12,
   "metadata": {
    "collapsed": false
   },
   "outputs": [
    {
     "name": "stdout",
     "output_type": "stream",
     "text": [
      "18\n",
      "18\n"
     ]
    }
   ],
   "source": [
    "import operator\n",
    "\n",
    "ec = nx.eccentricity(G)\n",
    "\n",
    "print max(ec.values())\n",
    "## OR \n",
    "print nx.diameter(G)\n"
   ]
  },
  {
   "cell_type": "markdown",
   "metadata": {},
   "source": [
    "**(0.5 points) Assignment question #1.5:** Determine ALL most central node(s) and ALL most central edge(s), with respect to the node and edge betweenes centrality. Remember that two or more nodes/edges may have the same centrality score and they ALL need to be determined for this assignment.  \n",
    "**Hint:** `networkx` already contains dedicated function to compute node and edge betweenness centrality scores."
   ]
  },
  {
   "cell_type": "code",
   "execution_count": 14,
   "metadata": {
    "collapsed": false
   },
   "outputs": [
    {
     "name": "stdout",
     "output_type": "stream",
     "text": [
      "The most betweenness central users are ' 54837666 ' .\n",
      "The most betweenness central edges are ('2260701138', '54837666') .\n"
     ]
    }
   ],
   "source": [
    "bc = nx.betweenness_centrality(G)\n",
    "m = max(bc.iteritems(), key=operator.itemgetter(1))\n",
    "#print m\n",
    "cent_nodes = [(a,b) for (a,b) in bc.iteritems()]\n",
    "\n",
    "print \"The most betweenness central users are\",\n",
    "for i in range (0, len(cent_nodes)):\n",
    "    if cent_nodes[i][1] == m[1]:\n",
    "        print  \"'\",cent_nodes[i][0],\"'\",\n",
    "print \".\"\n",
    "        \n",
    "ebc = nx.edge_betweenness_centrality(G)\n",
    "m = max(ebc.iteritems(), key = operator.itemgetter(1))\n",
    "#print m\n",
    "cent_edges = [(a,b) for (a,b) in ebc.iteritems()]\n",
    "#print cent_edges\n",
    "print \"The most betweenness central edges are\",\n",
    "for i in range(0, len(cent_edges)):\n",
    "    if cent_edges[i][1] == m[1]:\n",
    "        print cent_edges[i][0],\n",
    "print \".\"\n"
   ]
  },
  {
   "cell_type": "markdown",
   "metadata": {},
   "source": [
    "2. Assignment questions related to the tutorial 2: constructing a network from real data\n",
    "---"
   ]
  },
  {
   "cell_type": "markdown",
   "metadata": {},
   "source": [
    "**(1 point) Assignment question #2.1:** Starting from [the same bzipped JSON twitter dataset](http://rizoiu.eu/sna-lab-ipython/twitter-dump.json.bz2), construct the social graph based on the reply relation. Analyse (as shown in *Step 3*) which fields you require and give the Python code necessary for constructing the network.  \n",
    "**NOTE:** all the subsequent questions of this subsection are to be solved on the graph constructed at this question."
   ]
  },
  {
   "cell_type": "markdown",
   "metadata": {},
   "source": [
    "\"# cell for analysis of required fields\""
   ]
  },
  {
   "cell_type": "code",
   "execution_count": 15,
   "metadata": {
    "collapsed": false
   },
   "outputs": [],
   "source": [
    "import networkx as nx\n",
    "import bz2, json\n",
    "\n",
    "reader = bz2.BZ2File(\"./twitter-dump.json.bz2\", mode=\"r\")\n",
    "jobj = json.loads(reader.readline())\n",
    "\n",
    "# open the bzipped dataset\n",
    "reader = bz2.BZ2File(\"./twitter-dump.json.bz2\", mode=\"r\")\n",
    "\n",
    "# code for question.\n",
    "DG = nx.DiGraph()\n",
    "\n",
    "# code for constructing the Directed Graph `DG`\n",
    "\n",
    "# go line by line (ergo, tweet by tweet)\n",
    "for line in reader:\n",
    "    # load the JSON object from the read line\n",
    "    jobj = json.loads(line)\n",
    "    \n",
    "    # if the current tweet is a reply\n",
    "    if jobj[u'in_reply_to_user_id'] != None:\n",
    "        # determine user id\n",
    "        user_id = jobj[u'user'][u'id']\n",
    "        if isinstance(user_id, dict):\n",
    "            user_id = user_id.values()[0]\n",
    "        user_id = int(user_id)\n",
    "        \n",
    "        #determine the reply user id\n",
    "        reply_user_id = jobj[u'in_reply_to_user_id']\n",
    "        if isinstance(reply_user_id, dict):\n",
    "            reply_user_id = reply_user_id.values()[0]\n",
    "        reply_user_id = int(reply_user_id)\n",
    "        \n",
    "        # add the two nodes in the graph, if not already there\n",
    "        if user_id not in DG:  DG.add_node(user_id)\n",
    "        if reply_user_id not in DG:  DG.add_node(reply_user_id)\n",
    "        DG.add_edge(user_id, reply_user_id)\n",
    "        "
   ]
  },
  {
   "cell_type": "markdown",
   "metadata": {},
   "source": [
    "**(1 point) Assignment question #2.2:** How many nodes and edges do you have in the resulted reply graph?"
   ]
  },
  {
   "cell_type": "code",
   "execution_count": 16,
   "metadata": {
    "collapsed": false
   },
   "outputs": [
    {
     "name": "stdout",
     "output_type": "stream",
     "text": [
      "Number of nodes: 735\n",
      "Number of edges: 622\n"
     ]
    }
   ],
   "source": [
    "print \"Number of nodes: %d\" % DG.number_of_nodes()\n",
    "print \"Number of edges: %d\" % DG.number_of_edges()\n"
   ]
  },
  {
   "cell_type": "markdown",
   "metadata": {},
   "source": [
    "**(1 point) Assignment question #2.3:** Using the `networkx` functions, filter the social graph to its *giant connected component*. \n",
    "Calculate for this new graph: i) the number of nodes, ii) the number of edges, iii) the radius and iv) the diameter.  \n",
    "**HINT:** You can either construct a new graph which contains only the nodes and edges in the *giant connected component* or you can remove from your initial graph all the nodes and edges belonging to the other connected components.  \n",
    "**NOTE:** This question should be solved on the UNDIRECTED version of the social graph. Considering that *DG* is the constructed directed networkx graph, do:"
   ]
  },
  {
   "cell_type": "code",
   "execution_count": 18,
   "metadata": {
    "collapsed": false
   },
   "outputs": [
    {
     "name": "stdout",
     "output_type": "stream",
     "text": [
      "Number of nodes in giant connect component: 465\n",
      "Number of edges in giant connect component: 467\n",
      "Radius of giant connect component: 3\n",
      "Diameter of giant connect component: 6\n"
     ]
    }
   ],
   "source": [
    "# create an undirected copy of our graph\n",
    "G = DG.to_undirected()\n",
    "\n",
    "Gcc=sorted(nx.connected_component_subgraphs(G), key = len, reverse=True)\n",
    "gcc = Gcc[0]\n",
    "\n",
    "print \"Number of nodes in giant connect component: %d\" % gcc.number_of_nodes()\n",
    "print \"Number of edges in giant connect component: %d\" % gcc.number_of_edges()\n",
    "print \"Radius of giant connect component: %d\" % nx.radius(gcc)\n",
    "print \"Diameter of giant connect component: %d\" % nx.diameter(gcc)\n"
   ]
  },
  {
   "cell_type": "markdown",
   "metadata": {},
   "source": [
    "**(1 point) Assignment question #2.4:** This assignment question is to calculate iterativelly the basic form of the PageRank on the reply social graph constructed previously. Considering that *DG* is the constructed directed networkx graph constructed at the **Assignment questions #2.1**. We will construct the *PageRank* on the largest [*weakly connected component*](http://en.wikipedia.org/wiki/Connectivity_%28graph_theory%29). This is constructed as shown hereafter.\n",
    "Your job is to compute the PageRank, using the algorithm provided in the tutorial and exemplified in the lecture notes.\n",
    "Use a maximum of $maxiter = 20$ iterations."
   ]
  },
  {
   "cell_type": "code",
   "execution_count": 19,
   "metadata": {
    "collapsed": false
   },
   "outputs": [
    {
     "data": {
      "text/plain": [
       "{34359954: 0.004483870967741935,\n",
       " 34507480: 0.20229379652869947,\n",
       " 153694176: 0.0026774193548387095,\n",
       " 217733121: 0.0006451612903225808,\n",
       " 261289587: 0.000870967741935484,\n",
       " 271239188: 0.0009925558321466847,\n",
       " 336555582: 0.0010967741935483872,\n",
       " 1188471348: 0.0009925558321466847,\n",
       " 1456140289: 0.0006451612903225808,\n",
       " 2502937470: 0.0009925558321466847}"
      ]
     },
     "execution_count": 19,
     "metadata": {},
     "output_type": "execute_result"
    }
   ],
   "source": [
    "import operator\n",
    "from itertools import islice\n",
    "\n",
    "# get the list of weakly connected components, sorted by size\n",
    "omp_List = sorted(nx.weakly_connected_component_subgraphs(DG), key = len, reverse=True)\n",
    "\n",
    "# we want the first component, the biggest\n",
    "WCDG = omp_List[0]\n",
    "\n",
    "# get the number of nodes of the graph\n",
    "n = len(WCDG.nodes())\n",
    "\n",
    "# initialize the PR at moment 0 using a dictionary of pairs {node : score}\n",
    "PR = {}\n",
    "for node in WCDG.nodes():\n",
    "    PR[node] = 1.0/n\n",
    "\n",
    "# initialize variables\n",
    "no_iter=0     # current iteration\n",
    "iter_max=20   # maximum number of iterations\n",
    "d = 0.7       # decay factor\n",
    "while no_iter < iter_max: # iterate until maximum iterations\n",
    "    \n",
    "    # at each iteration, we compute a new version of the PageRank for each node\n",
    "    new_PR = {}\n",
    "    no_iter = no_iter + 1\n",
    "    \n",
    "    # calculate the PageRank of each node (`new_PR[node]`), based on the previous values (`PR[other_nodes]`)\n",
    "    for node in WCDG.nodes():\n",
    "        ## code for calculating new_PR[node].\n",
    "        new_PR[node] = (1.0 - d) / n\n",
    "        B = WCDG.predecessors(node)\n",
    "        for s in B:\n",
    "            N = len(WCDG.successors(s))\n",
    "            new_PR[node] = new_PR[node] + 1.0 * d * PR[s] / N\n",
    "            \n",
    "        \n",
    "    # at the end of iteration, replace old values of PR with the new ones\n",
    "    PR = new_PR\n",
    "    \n",
    "# even if a dictionary is not sorted (it is just a collection) we sort it so that the next\n",
    "# printing at the screen shows some interesting values\n",
    "sorted_PR = sorted(PR.iteritems(), key=operator.itemgetter(1), reverse=True)\n",
    "\n",
    "# and print it out the first 10 elements\n",
    "dict(islice(sorted_PR, 10))"
   ]
  },
  {
   "cell_type": "code",
   "execution_count": 7,
   "metadata": {
    "collapsed": false
   },
   "outputs": [
    {
     "data": {
      "text/plain": [
       "{34359954: 0.009568351538270254,\n",
       " 34507480: 0.443107317409402,\n",
       " 153694176: 0.005613240502475285,\n",
       " 217733121: 0.0011637405872059446,\n",
       " 261289587: 0.0016581294666803159,\n",
       " 271239188: 0.0020236647946348593,\n",
       " 336555582: 0.002152518346154687,\n",
       " 1188471348: 0.0020236647946348593,\n",
       " 1456140289: 0.0011637405872059446,\n",
       " 2502937470: 0.0020236647946348593}"
      ]
     },
     "execution_count": 7,
     "metadata": {},
     "output_type": "execute_result"
    }
   ],
   "source": [
    "from itertools import islice\n",
    "\n",
    "# compute the pagerank\n",
    "pr = nx.pagerank(WCDG)\n",
    "\n",
    "# even if a dictionary is not sorted (it is just a collection) we sort it so that the next\n",
    "# printing at the screen to show some interesting values\n",
    "sorted_pr = sorted(pr.iteritems(), key=operator.itemgetter(1), reverse=True)\n",
    "\n",
    "# and print it out the first 10 elements\n",
    "dict(islice(sorted_pr, 10))"
   ]
  },
  {
   "cell_type": "markdown",
   "metadata": {},
   "source": [
    "3. Assignment questions related to the tutorial 3: sentiment analysis\n",
    "---"
   ]
  },
  {
   "cell_type": "markdown",
   "metadata": {},
   "source": [
    "The following code is necessary to define the sentiment scoring function that was constructed in the tutorial. Run this before continuing with the assignments:"
   ]
  },
  {
   "cell_type": "code",
   "execution_count": 20,
   "metadata": {
    "collapsed": false
   },
   "outputs": [],
   "source": [
    "from nltk.stem.wordnet import WordNetLemmatizer\n",
    "import nltk\n",
    "\n",
    "# define the lemmatizer\n",
    "lmtzr = WordNetLemmatizer()\n",
    "\n",
    "# read the positive and negative lexicon in lists of words\n",
    "positive_words = [lmtzr.lemmatize(line.strip().decode('utf-8')) for line in open('sentiment-lexicon-positive-words.txt')]\n",
    "negative_words = [lmtzr.lemmatize(line.strip().decode('utf-8')) for line in open('sentiment-lexicon-negative-words.txt')]\n",
    "\n",
    "# define the function that computes the sentiment score\n",
    "def get_sentiment_score(text):\n",
    "    # tokenize and lemmatize the current tweet\n",
    "    tokens = nltk.word_tokenize(text)\n",
    "    tweet = [lmtzr.lemmatize(x.lower()) for x in tokens if len(x) >= 3]\n",
    "\n",
    "    # calculate the sentiment score\n",
    "    score = 0\n",
    "    for word in tweet:\n",
    "        if word in positive_words:\n",
    "            score = score + 1\n",
    "        if word in negative_words:\n",
    "            score = score - 1\n",
    "    return score\n"
   ]
  },
  {
   "cell_type": "markdown",
   "metadata": {},
   "source": [
    "**(1 point) Assignment question #3.1:** Use the `get_sentiment_score(text)`, the sentiment scoring function defined before, and calculate the sentiment polarity of the tweets in the Twitter JSON dataset used in [tutorial 2](http://nbviewer.ipython.org/url/rizoiu.eu/sna-lab-ipython/tutorial-2-construct-network-real-twitter-dump.ipynb). \n",
    "The dataset is [available to download here](http://rizoiu.eu/sna-lab-ipython/twitter-dump.json.bz2). \n",
    "Print the text of the 10 most positive and the 10 most negative tweets. \n",
    "We consider that a tweet $t_1$ is more positive than another tweet $t_2$ when score of the former is higher than the score of the latter ($score(t_1) > score(t_2)$). \n",
    "Similarly, a tweet $t_1$ is more negative than $t_2$ when $score(t_1) < score(t_2)$.  \n",
    "**HINT:** Load the tweets one by one as seen in tutorial 2 and extract the text, which is found in the field *text* of each tweet."
   ]
  },
  {
   "cell_type": "code",
   "execution_count": 22,
   "metadata": {
    "collapsed": false
   },
   "outputs": [
    {
     "name": "stdout",
     "output_type": "stream",
     "text": [
      "=========== 10 most positive tweets ===========\n",
      " \n",
      "RT @PerrieAndSmile: It's perfect, Amazing, fantastic, WOW!💜I love u💕 http://t.co/dKDHDhdOgF\n",
      "Please follow me gorgeous!👑@ArianaGrande \n",
      "#Watc… 6\n",
      " \n",
      "RT @PerrieAndSmile: It's perfect, Amazing, fantastic, WOW!💜I love u💕 http://t.co/dKDHDhdOgF\n",
      "Please follow me gorgeous!👑@ArianaGrande \n",
      "#Watc… 6\n",
      " \n",
      "RT @PerrieAndSmile: It's perfect, Amazing, fantastic, WOW!💜I love u💕 http://t.co/dKDHDhdOgF\n",
      "Please follow me gorgeous!👑@ArianaGrande \n",
      "#Watc… 6\n",
      " \n",
      "RT @PerrieAndSmile: It's perfect, Amazing, fantastic, WOW!💜I love u💕 http://t.co/dKDHDhdOgF\n",
      "Please follow me gorgeous!👑@ArianaGrande \n",
      "#Watc… 6\n",
      " \n",
      "RT @PerrieAndSmile: It's perfect, Amazing, fantastic, WOW!💜I love u💕 http://t.co/dKDHDhdOgF\n",
      "Please follow me gorgeous!👑@ArianaGrande \n",
      "#Watc… 6\n",
      " \n",
      "RT @PerrieAndSmile: It's perfect, Amazing, fantastic, WOW!💜I love u💕 http://t.co/dKDHDhdOgF\n",
      "Please follow me gorgeous!👑@ArianaGrande \n",
      "#Watc… 6\n",
      " \n",
      "RT @PerrieAndSmile: It's perfect, Amazing, fantastic, WOW!💜I love u💕 http://t.co/dKDHDhdOgF\n",
      "Please follow me gorgeous!👑@ArianaGrande \n",
      "#Watc… 6\n",
      " \n",
      "RT @PerrieAndSmile: It's perfect, Amazing, fantastic, WOW!💜I love u💕 http://t.co/dKDHDhdOgF\n",
      "Please follow me gorgeous!👑@ArianaGrande \n",
      "#Watc… 6\n",
      " \n",
      "RT @PerrieAndSmile: It's perfect, Amazing, fantastic, WOW!💜I love u💕 http://t.co/dKDHDhdOgF\n",
      "Please follow me gorgeous!👑@ArianaGrande \n",
      "#Watc… 6\n",
      " \n",
      "RT @PerrieAndSmile: It's perfect, Amazing, fantastic, WOW!💜I love u💕 http://t.co/dKDHDhdOgF\n",
      "Please follow me gorgeous!👑@ArianaGrande \n",
      "#Watc… 6\n",
      " \n",
      "=========== 10 most negative tweets ===========\n",
      " \n",
      "@ArianaGrande Problem slays my life. Problem slays your life. Problem over everything. Problem slays. https://t.co/b0jyBCGpXn -4\n",
      " \n",
      "RT @zaynmgirl: one less problem without ya I got one less problem without ya I got one less problem without ya https://t.co/0tLoIbAVcc -3\n",
      " \n",
      "Ariana Grande - Problem ft. Iggy Azalea omg I died when I saw it amazingg!! #problem  http://t.co/4RXDEqqb7w -3\n",
      " \n",
      "Ariana Grande - Problem ft. Iggy Azalea: http://t.co/RJioyyg2ZK  Attention! lets try to get problem to break the record #WatchProblemOnVEVO -3\n",
      " \n",
      "I hate those comments that are negative in Ariana's #problemvideo FUCK OFF!! http://t.co/cl6hTuPRLr -3\n",
      " \n",
      "RT @_ilysm_Ari: ARIANATORS RT AND SPREAD THE WORLD\n",
      "Problem broke an iTunes record time to break a vevo record. #WatchProblemOnVEVO https://… -3\n",
      " \n",
      "TWEET THE FUCKING LINK WITH THE HASHTAG. NO ONES GONNA FUCKING GOOGLE THAT SHIT TO FIND IT. http://t.co/Ktrjp69N7E #WatchProblemOnVEVO -3\n",
      " \n",
      "check out @ArianaGrande new MV Problem you won't regret it http://t.co/wLK629k2HJ  ARI FOLLOW ME PLEASE? #WatchProblemOnVEVO x31 -2\n",
      " \n",
      "check out @ArianaGrande new MV Problem you won't regret it http://t.co/wLK629k2HJ  ARI FOLLOW ME PLEASE? #WatchProblemOnVEVO x32 -2\n",
      " \n",
      "check out @ArianaGrande new MV Problem you won't regret it http://t.co/wLK629k2HJ  ARI FOLLOW ME PLEASE? #WatchProblemOnVEVO x33 -2\n",
      " \n"
     ]
    }
   ],
   "source": [
    "def getKey(tweet):\n",
    "    return tweet[2]\n",
    "\n",
    "import networkx as nx\n",
    "import bz2, json\n",
    "\n",
    "reader = bz2.BZ2File(\"./twitter-dump.json.bz2\", mode=\"r\")\n",
    "jobj = json.loads(reader.readline())\n",
    "\n",
    "# open the bzipped dataset\n",
    "reader = bz2.BZ2File(\"./twitter-dump.json.bz2\", mode=\"r\")\n",
    "\n",
    "# code for constructing the Directed Graph `DG`\n",
    "\n",
    "TEXT = []\n",
    "\n",
    "# go line by line (ergo, tweet by tweet)\n",
    "for line in reader:\n",
    "    # load the JSON object from the read line\n",
    "    jobj = json.loads(line)\n",
    "    \n",
    "    user_id = jobj[u'user'][u'id']\n",
    "    if isinstance(user_id, dict):\n",
    "        user_id = user_id.values()[0]\n",
    "    user_id = int(user_id)\n",
    "    \n",
    "    t = jobj[u'text']\n",
    "    score = get_sentiment_score(t)\n",
    "    d = jobj[u'created_at'][u'$date']\n",
    "    \n",
    "    TEXT.append((user_id, t, score, d))\n",
    "\n",
    "TEXT = sorted(TEXT, key = getKey)\n",
    "\n",
    "#print TEXT\n",
    "\n",
    "print \"=========== 10 most positive tweets ===========\"\n",
    "print \" \"\n",
    "for i in range(len(TEXT) - 10, len(TEXT)):\n",
    "    print TEXT[i][1],TEXT[i][2]\n",
    "    print \" \"\n",
    "print \"=========== 10 most negative tweets ===========\"\n",
    "print \" \"\n",
    "for i in range(0, 10):\n",
    "    print TEXT[i][1],TEXT[i][2]\n",
    "    print \" \""
   ]
  },
  {
   "cell_type": "markdown",
   "metadata": {},
   "source": [
    "**(1 point) Assignment question #3.2:** Based on the scores calculated in **Assignment #3.1**, determine the 3 most positive users. A user $u_1$ is more positive than a user $u_2$ if the dataset contains more positive tweets emitted by $u_1$ than tweets emitted by $u_2$. Formally:\n",
    "$$ positivity(u_1) > positivity(u_2) \\iff \\left| \\left\\{ t \\, \\middle| \\, author(t) = u_1 \\wedge score(t) > 0 \\right\\} \\right| > \\left| \\left\\{ t \\, \\middle| \\, author(t) = u_2 \\wedge score(t) > 0 \\right\\} \\right|$$"
   ]
  },
  {
   "cell_type": "code",
   "execution_count": 25,
   "metadata": {
    "collapsed": false
   },
   "outputs": [
    {
     "name": "stdout",
     "output_type": "stream",
     "text": [
      "3 most positive users: 2229663685 22\n",
      "1601537689 25\n",
      "1243188937 28\n",
      " \n",
      "3 most negative users: 2383722908 17\n",
      "491507860 20\n",
      "2251074357 24\n"
     ]
    }
   ],
   "source": [
    "import operator\n",
    "\n",
    "POSITIVE = {}\n",
    "NEGATIVE = {}\n",
    "\n",
    "for i in range(0, len(TEXT)):\n",
    "    key = TEXT[i][0]\n",
    "    if TEXT[i][2] > 0:\n",
    "        if key in POSITIVE.keys():\n",
    "            POSITIVE[key] += 1\n",
    "        else:\n",
    "            POSITIVE[key] = 1\n",
    "    if TEXT[i][2] < 0:\n",
    "        if TEXT[i][0] in NEGATIVE.keys():\n",
    "            NEGATIVE[key] += 1\n",
    "        else:\n",
    "            NEGATIVE[key] = 1\n",
    "\n",
    "POSITIVE = sorted(POSITIVE.items(), key=operator.itemgetter(1))\n",
    "NEGATIVE = sorted(NEGATIVE.items(), key=operator.itemgetter(1))\n",
    "\n",
    "print \"3 most positive users:\",\n",
    "for i in range(len(POSITIVE)-3, len(POSITIVE)):\n",
    "    print POSITIVE[i][0], POSITIVE[i][1]\n",
    "print \" \"\n",
    "print \"3 most negative users:\",\n",
    "for i in range(len(NEGATIVE)-3, len(NEGATIVE)):\n",
    "    print NEGATIVE[i][0], NEGATIVE[i][1]\n",
    "    "
   ]
  },
  {
   "cell_type": "markdown",
   "metadata": {},
   "source": [
    "**(1 point) Assignment question #3.3:** \n",
    "We have discussed earlier that our system is fragile to negations: it will score the expression *not beautiful* as positive because it only detects the word beautiful as positive. \n",
    "More generally, we consider that the token **not** changes the polarity of a given token: **not beautiful** becomes negative, while **not bad** becomes positive.  \n",
    "Modify the function `get_sentiment_score(text)` to detect the changes of polarity due to the token **not**."
   ]
  },
  {
   "cell_type": "code",
   "execution_count": 27,
   "metadata": {
    "collapsed": true
   },
   "outputs": [],
   "source": [
    "# define the function that computes the sentiment score\n",
    "def get_sentiment_score_modified(text):\n",
    "    # tokenize and lemmatize the current tweet\n",
    "    tokens = nltk.word_tokenize(text)\n",
    "    tweet = [lmtzr.lemmatize(x.lower()) for x in tokens if len(x) >= 3]\n",
    "\n",
    "    # calculate the sentiment score\n",
    "    score = 0\n",
    "    flag = 0\n",
    "    for word in tweet:\n",
    "\n",
    "        if word in positive_words:\n",
    "            if flag == 1:\n",
    "                flag = 0\n",
    "                score = score - 1\n",
    "            else:\n",
    "                score = score + 1\n",
    "        if word in negative_words:\n",
    "            if flag == 1:\n",
    "                flag = 0\n",
    "                score = score + 1\n",
    "            else:\n",
    "                score = score - 1\n",
    "        if word == \"not\":\n",
    "            flag = 1\n",
    "    return score\n"
   ]
  },
  {
   "cell_type": "code",
   "execution_count": 28,
   "metadata": {
    "collapsed": false
   },
   "outputs": [
    {
     "name": "stdout",
     "output_type": "stream",
     "text": [
      "=========== 10 most positive tweets ===========\n",
      " \n",
      "RT @PerrieAndSmile: It's perfect, Amazing, fantastic, WOW!💜I love u💕 http://t.co/dKDHDhdOgF\n",
      "Please follow me gorgeous!👑@ArianaGrande \n",
      "#Watc…\n",
      " \n",
      "RT @PerrieAndSmile: It's perfect, Amazing, fantastic, WOW!💜I love u💕 http://t.co/dKDHDhdOgF\n",
      "Please follow me gorgeous!👑@ArianaGrande \n",
      "#Watc…\n",
      " \n",
      "RT @PerrieAndSmile: It's perfect, Amazing, fantastic, WOW!💜I love u💕 http://t.co/dKDHDhdOgF\n",
      "Please follow me gorgeous!👑@ArianaGrande \n",
      "#Watc…\n",
      " \n",
      "RT @PerrieAndSmile: It's perfect, Amazing, fantastic, WOW!💜I love u💕 http://t.co/dKDHDhdOgF\n",
      "Please follow me gorgeous!👑@ArianaGrande \n",
      "#Watc…\n",
      " \n",
      "RT @PerrieAndSmile: It's perfect, Amazing, fantastic, WOW!💜I love u💕 http://t.co/dKDHDhdOgF\n",
      "Please follow me gorgeous!👑@ArianaGrande \n",
      "#Watc…\n",
      " \n",
      "RT @PerrieAndSmile: It's perfect, Amazing, fantastic, WOW!💜I love u💕 http://t.co/dKDHDhdOgF\n",
      "Please follow me gorgeous!👑@ArianaGrande \n",
      "#Watc…\n",
      " \n",
      "RT @PerrieAndSmile: It's perfect, Amazing, fantastic, WOW!💜I love u💕 http://t.co/dKDHDhdOgF\n",
      "Please follow me gorgeous!👑@ArianaGrande \n",
      "#Watc…\n",
      " \n",
      "RT @PerrieAndSmile: It's perfect, Amazing, fantastic, WOW!💜I love u💕 http://t.co/dKDHDhdOgF\n",
      "Please follow me gorgeous!👑@ArianaGrande \n",
      "#Watc…\n",
      " \n",
      "RT @PerrieAndSmile: It's perfect, Amazing, fantastic, WOW!💜I love u💕 http://t.co/dKDHDhdOgF\n",
      "Please follow me gorgeous!👑@ArianaGrande \n",
      "#Watc…\n",
      " \n",
      "RT @PerrieAndSmile: It's perfect, Amazing, fantastic, WOW!💜I love u💕 http://t.co/dKDHDhdOgF\n",
      "Please follow me gorgeous!👑@ArianaGrande \n",
      "#Watc…\n",
      " \n",
      "=========== 10 most negative tweets ===========\n",
      " \n",
      "@ArianaGrande Problem slays my life. Problem slays your life. Problem over everything. Problem slays. https://t.co/b0jyBCGpXn\n",
      " \n",
      "RT @zaynmgirl: one less problem without ya I got one less problem without ya I got one less problem without ya https://t.co/0tLoIbAVcc\n",
      " \n",
      "Ariana Grande - Problem ft. Iggy Azalea omg I died when I saw it amazingg!! #problem  http://t.co/4RXDEqqb7w\n",
      " \n",
      "Ariana Grande - Problem ft. Iggy Azalea: http://t.co/RJioyyg2ZK  Attention! lets try to get problem to break the record #WatchProblemOnVEVO\n",
      " \n",
      "I hate those comments that are negative in Ariana's #problemvideo FUCK OFF!! http://t.co/cl6hTuPRLr\n",
      " \n",
      "RT @_ilysm_Ari: ARIANATORS RT AND SPREAD THE WORLD\n",
      "Problem broke an iTunes record time to break a vevo record. #WatchProblemOnVEVO https://…\n",
      " \n",
      "TWEET THE FUCKING LINK WITH THE HASHTAG. NO ONES GONNA FUCKING GOOGLE THAT SHIT TO FIND IT. http://t.co/Ktrjp69N7E #WatchProblemOnVEVO\n",
      " \n",
      "check out @ArianaGrande new MV Problem you won't regret it http://t.co/wLK629k2HJ  ARI FOLLOW ME PLEASE? #WatchProblemOnVEVO x31\n",
      " \n",
      "check out @ArianaGrande new MV Problem you won't regret it http://t.co/wLK629k2HJ  ARI FOLLOW ME PLEASE? #WatchProblemOnVEVO x32\n",
      " \n",
      "check out @ArianaGrande new MV Problem you won't regret it http://t.co/wLK629k2HJ  ARI FOLLOW ME PLEASE? #WatchProblemOnVEVO x33\n",
      " \n"
     ]
    }
   ],
   "source": [
    "def getKey(tweet):\n",
    "    return tweet[2]\n",
    "\n",
    "import networkx as nx\n",
    "import bz2, json\n",
    "\n",
    "reader = bz2.BZ2File(\"./twitter-dump.json.bz2\", mode=\"r\")\n",
    "jobj = json.loads(reader.readline())\n",
    "\n",
    "# open the bzipped dataset\n",
    "reader = bz2.BZ2File(\"./twitter-dump.json.bz2\", mode=\"r\")\n",
    "\n",
    "# code for constructing the Directed Graph `DG`\n",
    "\n",
    "TEXT = []\n",
    "\n",
    "# go line by line (ergo, tweet by tweet)\n",
    "for line in reader:\n",
    "    # load the JSON object from the read line\n",
    "    jobj = json.loads(line)\n",
    "    \n",
    "    user_id = jobj[u'user'][u'id']\n",
    "    if isinstance(user_id, dict):\n",
    "        user_id = user_id.values()[0]\n",
    "    user_id = int(user_id)\n",
    "    \n",
    "    t = jobj[u'text']\n",
    "    score = get_sentiment_score_modified(t)\n",
    "    d = jobj[u'created_at']\n",
    "    \n",
    "    TEXT.append((user_id, t, score, d))\n",
    "\n",
    "TEXT = sorted(TEXT, key = getKey)\n",
    "\n",
    "#print TEXT\n",
    "\n",
    "print \"=========== 10 most positive tweets ===========\"\n",
    "print \" \"\n",
    "for i in range(len(TEXT) - 10, len(TEXT)):\n",
    "    print TEXT[i][1]\n",
    "    print \" \"\n",
    "print \"=========== 10 most negative tweets ===========\"\n",
    "print \" \"\n",
    "for i in range(0, 10):\n",
    "    print TEXT[i][1]\n",
    "    print \" \""
   ]
  },
  {
   "cell_type": "markdown",
   "metadata": {},
   "source": [
    "Bonus assignments questions\n",
    "---\n",
    "Bonus assignment questions earn you extra marks if you solve this assignment correctly, no penalty is inflicted if you do not solve it. \n",
    "Note that the total grade of SMA assignments cannot exceed 10 points, therefore the bonus point can only be used to compensate for another question which you did not solve correctly."
   ]
  },
  {
   "cell_type": "markdown",
   "metadata": {},
   "source": [
    "**(0.25 additional points) Bonus question #1.** \n",
    "Based on the scores calculated in **Assignment #3.1**, plot the temporal evolution of the counts of positive and negative tweets. The date a tweet was emitted is found in the field *created_at*. \n",
    "Divide the temporal extent of your dataset into 100 timeslices. \n",
    "The temporal extent of the dataset is from the creation date of the first tweet to the creation date of the last tweet. \n",
    "Count how many positive and how many negative tweets you have in each timeslice. \n",
    "Plot these counts on a graphic resembling this one:  \n",
    "![caption](files/desired-plot.png)  \n",
    "**HINT:** the graphic above is not based on real data. Your actual curves might **NOT** look like this one. Its purpose is just to show you the expected form of the graphic."
   ]
  },
  {
   "cell_type": "code",
   "execution_count": null,
   "metadata": {
    "collapsed": false
   },
   "outputs": [],
   "source": [
    "# code or answer for question. In case of plain text answer, change the type of cell to \"Raw Text\" using the toolbar.\n",
    "import matplotlib.pyplot as plt\n",
    "\n",
    "pos = []\n",
    "neg = []\n",
    "\n",
    "for i in range(0, len(TEXT)):\n",
    "    if TEXT[i][2] > 0:\n",
    "        pos.append(TEXT[i][3])\n",
    "    if TEXT[i][2] < 0:\n",
    "        neg.append(TEXT[i][3])\n",
    "\n",
    "pos = sorted(pos)\n",
    "neg = sorted(neg)\n"
   ]
  },
  {
   "cell_type": "code",
   "execution_count": null,
   "metadata": {
    "collapsed": false
   },
   "outputs": [],
   "source": [
    "import matplotlib.pyplot as plt\n",
    "plt.plot([1,2,3,4])\n",
    "plt.ylabel('some numbers')\n",
    "plt.show()"
   ]
  },
  {
   "cell_type": "markdown",
   "metadata": {},
   "source": [
    "**(0.25 additional points) Bonus question #2: Polarized communities** We want to know if there are polarized communities in our social graph. Are there closely linked groups of users who have similar sentiment polarities? We calculate the sentiment polarity of a user as the numbre of positive tweets emitted, from which we substract the number of negative tweets. Formally:\n",
    "$$sentiment\\_polarity(u) = \\left| \\left\\{ t \\, \\middle| \\, author(t) = u \\wedge score(t) > 0 \\right\\} \\right| - \\left| \\left\\{ t \\, \\middle| \\, author(t) = u \\wedge score(t) < 0 \\right\\} \\right| \\enspace.$$  \n",
    "To visually detect the polarized communities, we want to plot the same graph as in [tutorial 1](http://nbviewer.ipython.org/url/rizoiu.eu/sna-lab-ipython/tutorial-1-construct-social-graph.ipynb) at *Step 3*, but with the colors of nodes representing their polarity: `blue` for a negative polarity and `red` for a positive polarity. \n",
    "Are nodes colored similarly clustered close together?"
   ]
  },
  {
   "cell_type": "code",
   "execution_count": 16,
   "metadata": {
    "collapsed": false
   },
   "outputs": [],
   "source": [
    "# code or answer for question. In case of plain text answer, change the type of cell to \"Raw Text\" using the toolbar."
   ]
  },
  {
   "cell_type": "code",
   "execution_count": null,
   "metadata": {
    "collapsed": false
   },
   "outputs": [],
   "source": []
  }
 ],
 "metadata": {
  "kernelspec": {
   "display_name": "Python 2",
   "language": "python",
   "name": "python2"
  },
  "language_info": {
   "codemirror_mode": {
    "name": "ipython",
    "version": 2
   },
   "file_extension": ".py",
   "mimetype": "text/x-python",
   "name": "python",
   "nbconvert_exporter": "python",
   "pygments_lexer": "ipython2",
   "version": "2.7.10"
  }
 },
 "nbformat": 4,
 "nbformat_minor": 0
}
